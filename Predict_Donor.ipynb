{
 "cells": [
  {
   "cell_type": "markdown",
   "id": "saving-runner",
   "metadata": {},
   "source": [
    "# PROBLEM STATEMENT"
   ]
  },
  {
   "cell_type": "markdown",
   "id": "micro-remove",
   "metadata": {},
   "source": [
    "What is the problem that you’re solving? Who are you solving it for? \n",
    "* Reaching out to people asking for them to signup to become a donor is difficult. We have millions of potential clients but the majority of them refuse to become donors. It becomes increasingly difficult and inefficient (cost wise and time wise) to reach out to every single person. In order to lower expenses and waste less time, there needs to be a method to reach out to high potential donors who are willing to signup. We can use machine learning to predict high potential individuals who are likely to donate and give this model as a tool for organizations. Organizations who may find this helpful are the DMV, Organ Donor, or your state registry."
   ]
  },
  {
   "cell_type": "markdown",
   "id": "literary-cigarette",
   "metadata": {},
   "source": [
    "What are potential features, whether already built or that you’ll need to make? What is your target variable? What transformations will you need to perform on your input data?\n",
    "* PUT ANSWER HERE"
   ]
  },
  {
   "cell_type": "markdown",
   "id": "486f8aa1",
   "metadata": {},
   "source": [
    "What modeling approach(es) will you use for your problem? Is this classification or regression?\n",
    "How will you evaluate your model’s performance? This should be in terms of quantitative metrics, qualitative evaluation, and visualizations.\n",
    "* PUT ANSWER HERE\n",
    "\n",
    "NOTE - Please also include a rough project timeline, dividing up the work among your group members and demonstrating how you will complete both the analysis and the presentation by May 10th. "
   ]
  },
  {
   "cell_type": "code",
   "execution_count": 2,
   "id": "8140cd7a",
   "metadata": {},
   "outputs": [],
   "source": [
    "import pandas as pd"
   ]
  },
  {
   "cell_type": "code",
   "execution_count": 42,
   "id": "fdc3a3af",
   "metadata": {},
   "outputs": [
    {
     "name": "stdout",
     "output_type": "stream",
     "text": [
      "Index(['CONTROL_NUMBER', 'MONTHS_SINCE_ORIGIN', 'DONOR_AGE', 'IN_HOUSE',\n",
      "       'URBANICITY', 'SES', 'CLUSTER_CODE', 'HOME_OWNER', 'DONOR_GENDER',\n",
      "       'INCOME_GROUP', 'PUBLISHED_PHONE', 'OVERLAY_SOURCE', 'MOR_HIT_RATE',\n",
      "       'WEALTH_RATING', 'MEDIAN_HOME_VALUE', 'MEDIAN_HOUSEHOLD_INCOME',\n",
      "       'PCT_OWNER_OCCUPIED', 'PER_CAPITA_INCOME', 'PCT_ATTRIBUTE1',\n",
      "       'PCT_ATTRIBUTE2', 'PCT_ATTRIBUTE3', 'PCT_ATTRIBUTE4', 'PEP_STAR',\n",
      "       'RECENT_STAR_STATUS', 'RECENCY_STATUS_96NK', 'FREQUENCY_STATUS_97NK',\n",
      "       'RECENT_RESPONSE_PROP', 'RECENT_AVG_GIFT_AMT',\n",
      "       'RECENT_CARD_RESPONSE_PROP', 'RECENT_AVG_CARD_GIFT_AMT',\n",
      "       'RECENT_RESPONSE_COUNT', 'RECENT_CARD_RESPONSE_COUNT',\n",
      "       'MONTHS_SINCE_LAST_PROM_RESP', 'LIFETIME_CARD_PROM', 'LIFETIME_PROM',\n",
      "       'LIFETIME_GIFT_AMOUNT', 'LIFETIME_GIFT_COUNT', 'LIFETIME_AVG_GIFT_AMT',\n",
      "       'LIFETIME_GIFT_RANGE', 'LIFETIME_MAX_GIFT_AMT', 'LIFETIME_MIN_GIFT_AMT',\n",
      "       'LAST_GIFT_AMT', 'CARD_PROM_12', 'NUMBER_PROM_12',\n",
      "       'MONTHS_SINCE_LAST_GIFT', 'MONTHS_SINCE_FIRST_GIFT', 'FILE_AVG_GIFT',\n",
      "       'FILE_CARD_GIFT'],\n",
      "      dtype='object')\n",
      "Index(['TARGET_B', 'TARGET_D', 'CONTROL_NUMBER', 'MONTHS_SINCE_ORIGIN',\n",
      "       'DONOR_AGE', 'IN_HOUSE', 'URBANICITY', 'SES', 'CLUSTER_CODE',\n",
      "       'HOME_OWNER', 'DONOR_GENDER', 'INCOME_GROUP', 'PUBLISHED_PHONE',\n",
      "       'OVERLAY_SOURCE', 'MOR_HIT_RATE', 'WEALTH_RATING', 'MEDIAN_HOME_VALUE',\n",
      "       'MEDIAN_HOUSEHOLD_INCOME', 'PCT_OWNER_OCCUPIED', 'PER_CAPITA_INCOME',\n",
      "       'PCT_ATTRIBUTE1', 'PCT_ATTRIBUTE2', 'PCT_ATTRIBUTE3', 'PCT_ATTRIBUTE4',\n",
      "       'PEP_STAR', 'RECENT_STAR_STATUS', 'RECENCY_STATUS_96NK',\n",
      "       'FREQUENCY_STATUS_97NK', 'RECENT_RESPONSE_PROP', 'RECENT_AVG_GIFT_AMT',\n",
      "       'RECENT_CARD_RESPONSE_PROP', 'RECENT_AVG_CARD_GIFT_AMT',\n",
      "       'RECENT_RESPONSE_COUNT', 'RECENT_CARD_RESPONSE_COUNT',\n",
      "       'MONTHS_SINCE_LAST_PROM_RESP', 'LIFETIME_CARD_PROM', 'LIFETIME_PROM',\n",
      "       'LIFETIME_GIFT_AMOUNT', 'LIFETIME_GIFT_COUNT', 'LIFETIME_AVG_GIFT_AMT',\n",
      "       'LIFETIME_GIFT_RANGE', 'LIFETIME_MAX_GIFT_AMT', 'LIFETIME_MIN_GIFT_AMT',\n",
      "       'LAST_GIFT_AMT', 'CARD_PROM_12', 'NUMBER_PROM_12',\n",
      "       'MONTHS_SINCE_LAST_GIFT', 'MONTHS_SINCE_FIRST_GIFT', 'FILE_AVG_GIFT',\n",
      "       'FILE_CARD_GIFT'],\n",
      "      dtype='object')\n"
     ]
    }
   ],
   "source": [
    "\n",
    "predict_donor_data = pd.read_csv('Predict_donor.csv')\n",
    "raw_train_data = pd.read_csv('Raw_Data_for_train_test.csv')\n"
   ]
  },
  {
   "cell_type": "code",
   "execution_count": null,
   "id": "71310f71",
   "metadata": {},
   "outputs": [],
   "source": []
  }
 ],
 "metadata": {
  "kernelspec": {
   "display_name": "Python 3",
   "language": "python",
   "name": "python3"
  },
  "language_info": {
   "codemirror_mode": {
    "name": "ipython",
    "version": 3
   },
   "file_extension": ".py",
   "mimetype": "text/x-python",
   "name": "python",
   "nbconvert_exporter": "python",
   "pygments_lexer": "ipython3",
   "version": "3.8.2"
  }
 },
 "nbformat": 4,
 "nbformat_minor": 5
}
