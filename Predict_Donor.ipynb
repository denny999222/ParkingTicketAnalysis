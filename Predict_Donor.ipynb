{
 "cells": [
  {
   "cell_type": "markdown",
   "id": "atlantic-hopkins",
   "metadata": {},
   "source": [
    "# DONATION PREDICTOR"
   ]
  },
  {
   "cell_type": "markdown",
   "id": "alien-render",
   "metadata": {},
   "source": [
    "## PROBLEM STATEMENT"
   ]
  },
  {
   "cell_type": "markdown",
   "id": "contained-island",
   "metadata": {},
   "source": [
    "What is the problem that you’re solving? Who are you solving it for? \n",
    "* Reaching out to people asking for them to signup to become a donor or donate money is difficult. We have millions of potential clients but the majority of them refuse to donate money to charities. It becomes increasingly difficult and inefficient (cost wise and time wise) to reach out to every single person. In order to lower expenses and waste less time, there needs to be a method to reach out to high potential donors who are willing to donate. We can use machine learning to predict high potential individuals who are likely to respond/donate and give this model as a tool for organizations. Organizations who may find this helpful are nonprofits, charities, or hospitals."
   ]
  },
  {
   "cell_type": "markdown",
   "id": "graphic-brooks",
   "metadata": {},
   "source": [
    "What are potential features, whether already built or that you’ll need to make? What is your target variable? What transformations will you need to perform on your input data?\n",
    "* The dataset comes with about 50 features which may help. Some relevant features past money donations, response to surveys, donation amount, income, and donation frequency. We'll need to make a new feature column that is a boolean for whether someone has donated in 1997 (year of the data set). This feature column would be based off of column 'TARGET_D', which is the frequency of donations in the year of 1997. This and \"TARGET_D\" will be our targeted variables (if they donated in 1997 & how many times they've donated in 1997).    "
   ]
  },
  {
   "cell_type": "markdown",
   "id": "486f8aa1",
   "metadata": {},
   "source": [
    "What modeling approach(es) will you use for your problem? Is this classification or regression?\n",
    "How will you evaluate your model’s performance? This should be in terms of quantitative metrics, qualitative evaluation, and visualizations.\n",
    "* This is a regression problem since we are predicting the amount of times an individual will donate in the current year. Some modeling approaches we can take logistic regression, neural networks, regression trees, and random forest. Metrics we can utilize to measure our performance are:\n",
    "1. Mean Squared Error(MSE)\n",
    "2. Root-Mean-Squared-Error(RMSE)\n",
    "3. Mean-Absolute-Error(MAE)\n",
    "4. R² or Coefficient of Determination\n",
    "5. Adjusted R²\n",
    "\n",
    "Some visualizations we can utilize to understand the data and our results are:\n",
    "1. Histogram of income demographic\n",
    "2. Scatter plot on average amount of donation and frequency\n",
    "3. Correlation of features with heatmaps\n",
    "4. Whisker plots for donation distributions"
   ]
  },
  {
   "cell_type": "markdown",
   "id": "valued-spirit",
   "metadata": {},
   "source": [
    "# PROJECT TIMELINE"
   ]
  },
  {
   "cell_type": "markdown",
   "id": "developmental-chapel",
   "metadata": {},
   "source": [
    "NOTE - Please also include a rough project timeline, dividing up the work among your group members and demonstrating how you will complete both the analysis and the presentation by May 10th. "
   ]
  },
  {
   "cell_type": "markdown",
   "id": "perfect-assembly",
   "metadata": {},
   "source": [
    "## Denny Liang"
   ]
  },
  {
   "cell_type": "markdown",
   "id": "professional-praise",
   "metadata": {},
   "source": [
    "* Data Preprocessing\n",
    "* Create a logistic regression model\n",
    "* Create histogram of income demographic of donors"
   ]
  },
  {
   "cell_type": "markdown",
   "id": "optimum-plumbing",
   "metadata": {},
   "source": [
    "## Mohammed Bhuiyan"
   ]
  },
  {
   "cell_type": "markdown",
   "id": "important-method",
   "metadata": {},
   "source": [
    "* Create a regression tree model\n",
    "* Scatter plot on average of donation and frequency\n",
    "* Measure performance using Mean Squared Error (MSE)\n",
    "* Measure performance using Root Mean Squared Error (RMSE)"
   ]
  },
  {
   "cell_type": "markdown",
   "id": "better-assist",
   "metadata": {},
   "source": [
    "## Myriam Yumbla"
   ]
  },
  {
   "cell_type": "markdown",
   "id": "pleasant-decimal",
   "metadata": {},
   "source": [
    "* Create a neural network model\n",
    "* Handling hyperparameter tuning\n",
    "* Correlation of features with heatmaps"
   ]
  },
  {
   "cell_type": "markdown",
   "id": "expected-ancient",
   "metadata": {},
   "source": [
    "## Ravid Rahman"
   ]
  },
  {
   "cell_type": "markdown",
   "id": "blessed-sacramento",
   "metadata": {},
   "source": [
    "* Create a random forest model\n",
    "* Measure performance of model with Mean-Absolute-Error(MAE)\n",
    "* Measure performance of model with R² or Coefficient of Determination\n",
    "* Measure performance of model with Adjusted R²"
   ]
  },
  {
   "cell_type": "code",
   "execution_count": 2,
   "id": "8140cd7a",
   "metadata": {},
   "outputs": [],
   "source": [
    "import pandas as pd"
   ]
  },
  {
   "cell_type": "code",
   "execution_count": 8,
   "id": "fdc3a3af",
   "metadata": {},
   "outputs": [],
   "source": [
    "\n",
    "predict_donor_data = pd.read_csv('Predict_donor.csv')\n",
    "raw_train_data = pd.read_csv('Raw_Data_for_train_test.csv')"
   ]
  },
  {
   "cell_type": "code",
   "execution_count": null,
   "id": "71310f71",
   "metadata": {},
   "outputs": [],
   "source": []
  }
 ],
 "metadata": {
  "kernelspec": {
   "display_name": "Python 3",
   "language": "python",
   "name": "python3"
  },
  "language_info": {
   "codemirror_mode": {
    "name": "ipython",
    "version": 3
   },
   "file_extension": ".py",
   "mimetype": "text/x-python",
   "name": "python",
   "nbconvert_exporter": "python",
   "pygments_lexer": "ipython3",
   "version": "3.8.2"
  }
 },
 "nbformat": 4,
 "nbformat_minor": 5
}
